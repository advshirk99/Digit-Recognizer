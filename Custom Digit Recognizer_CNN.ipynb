{
 "cells": [
  {
   "cell_type": "code",
   "execution_count": 1,
   "metadata": {},
   "outputs": [],
   "source": [
    "import pandas as pd\n",
    "import numpy as np\n",
    "import matplotlib.pyplot as plt\n",
    "import tensorflow as tf\n",
    "config = tf.compat.v1.ConfigProto()\n",
    "config.gpu_options.allow_growth = True\n",
    "sess = tf.compat.v1.Session(config=config)\n",
    "from tensorflow import keras\n",
    "from keras.layers import Dense, GlobalMaxPooling2D, GlobalAveragePooling2D, Conv2D, BatchNormalization, Activation, Reshape\n",
    "from keras.models import Sequential\n",
    "from sklearn.preprocessing import scale\n",
    "from keras.datasets import mnist\n",
    "from keras.utils import to_categorical\n",
    "from sklearn.model_selection import train_test_split\n",
    "import cv2"
   ]
  },
  {
   "cell_type": "code",
   "execution_count": 2,
   "metadata": {},
   "outputs": [],
   "source": [
    "(X_train,y_train), (X_test, y_test)= mnist.load_data()\n",
    "x=np.concatenate((X_train,X_test))\n",
    "y=np.concatenate((y_train, y_test))"
   ]
  },
  {
   "cell_type": "code",
   "execution_count": 3,
   "metadata": {},
   "outputs": [],
   "source": [
    "x_train,x_test,y_train,y_test=train_test_split(x,y,test_size=0.2)"
   ]
  },
  {
   "cell_type": "code",
   "execution_count": 4,
   "metadata": {},
   "outputs": [
    {
     "name": "stdout",
     "output_type": "stream",
     "text": [
      "(56000, 28, 28) uint8\n",
      "(56000,)\n",
      "(14000, 28, 28)\n",
      "(14000,)\n"
     ]
    }
   ],
   "source": [
    "print(x_train.shape, x_train.dtype)\n",
    "print(y_train.shape)\n",
    "print(x_test.shape)\n",
    "print(y_test.shape)"
   ]
  },
  {
   "cell_type": "code",
   "execution_count": 5,
   "metadata": {},
   "outputs": [
    {
     "data": {
      "image/png": "[encoded data removed]",
      "text/plain": [
       "<Figure size 432x288 with 1 Axes>"
      ]
     },
     "metadata": {
      "needs_background": "light"
     },
     "output_type": "display_data"
    }
   ],
   "source": [
    "plt.imshow(x_train[90],cmap='gray')\n",
    "plt.show()"
   ]
  },
  {
   "cell_type": "code",
   "execution_count": 6,
   "metadata": {},
   "outputs": [
    {
     "name": "stdout",
     "output_type": "stream",
     "text": [
      "(56000, 28, 28, 1) (14000, 28, 28, 1)\n"
     ]
    }
   ],
   "source": [
    "X_train=x_train.reshape(len(x_train),28,28,1)\n",
    "X_test=x_test.reshape(len(x_test),28,28,1)\n",
    "print(X_train.shape, X_test.shape)"
   ]
  },
  {
   "cell_type": "code",
   "execution_count": 7,
   "metadata": {},
   "outputs": [],
   "source": [
    "X_train=X_train.astype('float32')\n",
    "X_test=X_test.astype('float32')"
   ]
  },
  {
   "cell_type": "code",
   "execution_count": 8,
   "metadata": {},
   "outputs": [],
   "source": [
    "X_train /= 255 -0.5\n",
    "X_test /= 255 -0.5"
   ]
  },
  {
   "cell_type": "code",
   "execution_count": 9,
   "metadata": {},
   "outputs": [],
   "source": [
    "filter_size1=3\n",
    "filter_size2=5\n",
    "pool_size1=2"
   ]
  },
  {
   "cell_type": "code",
   "execution_count": 26,
   "metadata": {},
   "outputs": [],
   "source": [
    "model=Sequential()\n",
    "model.add(Conv2D(256,filter_size1,strides=(1,1),input_shape=(None,None,1), data_format='channels_last'))\n",
    "model.add(Conv2D(128,filter_size2,input_shape=(None,None,256), data_format='channels_last'))\n",
    "model.add(Conv2D(64,filter_size2,input_shape=(None,None,128), data_format='channels_last'))\n",
    "model.add(Conv2D(32,filter_size2,input_shape=(None,None,64), data_format='channels_last'))\n",
    "model.add(Conv2D(16,filter_size2,input_shape=(None,None,32), data_format='channels_last'))\n",
    "#model.add(Conv2D(33,filter_size2,input_shape=(None,None,50), data_format='channels_last'))\n",
    "#model.add(Conv2D(101,filter_size2,input_shape=(None,None,1), data_format='channels_last'))\n",
    "#model.add(Dense(200, activation='relu'))\n",
    "#model.add(Dense(133, activation='relu'))\n",
    "#model.add(Dense(88, activation='relu'))\n",
    "#model.add(GlobalMaxPooling2D(data_format='channels_last'))\n",
    "#model.add(BatchNormalization())\n",
    "model.add(Conv2D(10,filter_size2, input_shape=(None,None,16), data_format='channels_last'))\n",
    "model.add(GlobalMaxPooling2D())\n",
    "model.add(Activation(activation='softmax'))\n",
    "#model.add(Dense(10,activation='softmax'))"
   ]
  },
  {
   "cell_type": "code",
   "execution_count": 27,
   "metadata": {},
   "outputs": [],
   "source": [
    "model.compile(loss='categorical_crossentropy',optimizer='adam',metrics=['accuracy'])"
   ]
  },
  {
   "cell_type": "code",
   "execution_count": 30,
   "metadata": {},
   "outputs": [
    {
     "name": "stdout",
     "output_type": "stream",
     "text": [
      "Epoch 1/5\n",
      "1400/1400 [==============================] - 36s 26ms/step - loss: 0.3754 - accuracy: 0.8909\n",
      "Epoch 2/5\n",
      "1400/1400 [==============================] - 36s 26ms/step - loss: 0.3417 - accuracy: 0.9006\n",
      "Epoch 3/5\n",
      "1400/1400 [==============================] - 37s 27ms/step - loss: 0.3183 - accuracy: 0.9093\n",
      "Epoch 4/5\n",
      "1400/1400 [==============================] - 37s 27ms/step - loss: 0.3071 - accuracy: 0.9126\n",
      "Epoch 5/5\n",
      "1400/1400 [==============================] - 38s 27ms/step - loss: 0.2963 - accuracy: 0.9153\n"
     ]
    },
    {
     "data": {
      "text/plain": [
       "<tensorflow.python.keras.callbacks.History at 0x191ab74b4c0>"
      ]
     },
     "execution_count": 30,
     "metadata": {},
     "output_type": "execute_result"
    }
   ],
   "source": [
    "model.fit(X_train, to_categorical(y_train), epochs=5, batch_size=40)"
   ]
  },
  {
   "cell_type": "code",
   "execution_count": 31,
   "metadata": {},
   "outputs": [
    {
     "name": "stdout",
     "output_type": "stream",
     "text": [
      "438/438 [==============================] - 4s 8ms/step - loss: 0.2635 - accuracy: 0.9229\n",
      "\n",
      "accuracy: 92.29%\n"
     ]
    }
   ],
   "source": [
    "scores=model.evaluate(X_test, to_categorical(y_test))\n",
    "print('\\n%s: %.2f%%'%(model.metrics_names[1], scores[1]*100))"
   ]
  },
  {
   "cell_type": "code",
   "execution_count": null,
   "metadata": {},
   "outputs": [],
   "source": [
    "model.save('D:\\\\Personal\\\\Practice\\\\ML\\\\Notebook')"
   ]
  },
  {
   "cell_type": "code",
   "execution_count": 10,
   "metadata": {},
   "outputs": [],
   "source": [
    "model=keras.models.load_model('D:\\\\Personal\\\\Practice\\\\ML\\\\Notebook')"
   ]
  },
  {
   "cell_type": "code",
   "execution_count": 81,
   "metadata": {},
   "outputs": [],
   "source": [
    "def predict_image(image):\n",
    "    #converting into gray image\n",
    "    grey = cv2.cvtColor(image.copy(), cv2.COLOR_BGR2GRAY)\n",
    "    print('The image:')\n",
    "    plt.show(plt.imshow(grey, cmap='gray'))\n",
    "    #inverting colours\n",
    "    grey=cv2.bitwise_not(grey,mask=None)\n",
    "    ret, resized_digit = cv2.threshold(grey.copy(), 130, 255, cv2.THRESH_BINARY)\n",
    "    #Dilating handwritten digit\n",
    "    kernel = np.ones((1,1),np.uint8)\n",
    "    resized_digit=cv2.dilate(resized_digit,kernel, iterations=4)\n",
    "    #Resizing the image\n",
    "    resized_digit = cv2.resize(resized_digit, (60,60))\n",
    "    #Normalization for each pixel\n",
    "    resized_digit=resized_digit.astype('float32')\n",
    "    resized_digit /= 255 -0.5\n",
    "    print('The prediction-ready image:')\n",
    "    plt.show(plt.imshow(resized_digit, cmap='gray'))\n",
    "    #predicting the digit\n",
    "    prediction = model.predict(resized_digit.reshape(1,resized_digit.shape[0],resized_digit.shape[1],1))\n",
    "    for i in range(len(prediction[0])):\n",
    "        if max(prediction[0])<0.4:\n",
    "            digit=i\n",
    "            pred_list=prediction[0].tolist()\n",
    "            mx=max(pred_list[0],pred_list[1])\n",
    "            secondmax=min(pred_list[0],pred_list[1])\n",
    "            n=len(pred_list)\n",
    "            for j in range(2,n):\n",
    "                if pred_list[j]>mx:\n",
    "                    secondmax=mx\n",
    "                    mx=pred_list[j]\n",
    "                elif pred_list[j]>secondmax and mx!=pred_list[j]:\n",
    "                    next_digit=j\n",
    "            #print(pred_list)\n",
    "            return print('The digit is:',digit,'or',next_digit)\n",
    "        elif prediction[0][i]==max(prediction[0]):\n",
    "            digit=i  \n",
    "            print(prediction[0])\n",
    "            return print('The digit is:',digit)     "
   ]
  },
  {
   "cell_type": "markdown",
   "metadata": {},
   "source": [
    "The threshold and size of image must be varied according to the requirement, as it might vary from person to person."
   ]
  },
  {
   "cell_type": "code",
   "execution_count": 84,
   "metadata": {},
   "outputs": [],
   "source": [
    "image = cv2.imread('D:\\Personal\\Practice\\ML\\Digit_8.jpg')"
   ]
  },
  {
   "cell_type": "code",
   "execution_count": 85,
   "metadata": {},
   "outputs": [
    {
     "name": "stdout",
     "output_type": "stream",
     "text": [
      "The image:\n"
     ]
    },
    {
     "data": {
      "image/png": "[encoded data removed]",
      "text/plain": [
       "<Figure size 432x288 with 1 Axes>"
      ]
     },
     "metadata": {
      "needs_background": "light"
     },
     "output_type": "display_data"
    },
    {
     "name": "stdout",
     "output_type": "stream",
     "text": [
      "The prediction-ready image:\n"
     ]
    },
    {
     "data": {
      "image/png": "[encoded data removed]",
      "text/plain": [
       "<Figure size 432x288 with 1 Axes>"
      ]
     },
     "metadata": {
      "needs_background": "light"
     },
     "output_type": "display_data"
    },
    {
     "name": "stdout",
     "output_type": "stream",
     "text": [
      "[0.00297097 0.05082562 0.4726511  0.08421095 0.0044158  0.0223268\n",
      " 0.02354751 0.0162949  0.19731334 0.125443  ]\n",
      "The digit is: 2\n"
     ]
    }
   ],
   "source": [
    "predict_image(image)"
   ]
  }
 ],
 "metadata": {
  "kernelspec": {
   "display_name": "GPUEnv",
   "language": "python",
   "name": "gpuenv"
  },
  "language_info": {
   "codemirror_mode": {
    "name": "ipython",
    "version": 3
   },
   "file_extension": ".py",
   "mimetype": "text/x-python",
   "name": "python",
   "nbconvert_exporter": "python",
   "pygments_lexer": "ipython3",
   "version": "3.8.6"
  }
 },
 "nbformat": 4,
 "nbformat_minor": 4
}
